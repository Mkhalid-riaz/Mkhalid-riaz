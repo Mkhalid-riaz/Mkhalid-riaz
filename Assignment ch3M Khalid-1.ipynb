{
 "cells": [
  {
   "cell_type": "code",
   "execution_count": 6,
   "metadata": {},
   "outputs": [
    {
     "name": "stdout",
     "output_type": "stream",
     "text": [
      "['Khalid', 'Assad', 'Asif', 'Bilal', 'Abdul Malik']\n"
     ]
    }
   ],
   "source": [
    "#Assig 3.1\n",
    "names = ['Khalid', 'Assad', 'Asif', 'Bilal', 'Abdul Malik']\n",
    "print(names)"
   ]
  },
  {
   "cell_type": "code",
   "execution_count": 7,
   "metadata": {},
   "outputs": [
    {
     "name": "stdout",
     "output_type": "stream",
     "text": [
      "Hey Whats your Profession  Khalid.\n",
      "Hey whats your profesion Amir.\n",
      "Hey Whats your Profession Hammad.\n",
      "Hey Whats your profession Yasir.\n",
      "Hey Whats your profession Luqman.\n"
     ]
    }
   ],
   "source": [
    "#Assig 3.2\n",
    "names = ['Khalid', 'Amir', 'Hammad', 'Yasir', 'Luqman']\n",
    "print(\"Hey Whats your Profession  \"+names[0].title()+'.')\n",
    "print(\"Hey whats your profesion \"+names[1].title()+'.')\n",
    "print(\"Hey Whats your Profession \"+names[2].title()+'.')\n",
    "print(\"Hey Whats your profession \"+names[3].title()+'.')\n",
    "print(\"Hey Whats your profession \"+names[4].title()+'.')  "
   ]
  },
  {
   "cell_type": "code",
   "execution_count": 8,
   "metadata": {},
   "outputs": [
    {
     "name": "stdout",
     "output_type": "stream",
     "text": [
      "I Would like to own CD 70.\n",
      "I Would like to own CD 100.\n",
      "I Would like to own Honda 125.\n",
      "I Would like to own Yamha.\n"
     ]
    }
   ],
   "source": [
    "#Assig 3.3\n",
    "motorcycle=['CD 70','CD 100','Honda 125','Yamha']\n",
    "print (\"I Would like to own \"+ motorcycle[0]+'.')\n",
    "print (\"I Would like to own \"+ motorcycle[1]+'.')\n",
    "print (\"I Would like to own \"+ motorcycle[2]+'.')\n",
    "print (\"I Would like to own \"+ motorcycle[3]+'.')"
   ]
  },
  {
   "cell_type": "code",
   "execution_count": 9,
   "metadata": {},
   "outputs": [
    {
     "name": "stdout",
     "output_type": "stream",
     "text": [
      "['Khalid', 'Amir', 'Hammad']\n",
      "hey friend you are invited for a dinner from me Khalid.\n",
      "hey friend you are invited for a dinner from me Amir.\n",
      "hey friend you are invited for a dinner from me Hammad.\n"
     ]
    }
   ],
   "source": [
    "#Assig 3.4\n",
    "\n",
    "Guests=['Khalid', 'Amir','Hammad']\n",
    "print(Guests)\n",
    "print (\"hey friend you are invited for a dinner from me \" +Guests[0].title()+ '.')\n",
    "print (\"hey friend you are invited for a dinner from me \" +Guests[1].title()+ '.')\n",
    "print (\"hey friend you are invited for a dinner from me \" +Guests[2].title()+ '.')"
   ]
  },
  {
   "cell_type": "code",
   "execution_count": 10,
   "metadata": {},
   "outputs": [
    {
     "name": "stdout",
     "output_type": "stream",
     "text": [
      "['Khalid', 'Amir', 'Hammad']\n",
      "hey dear you are invited for a dinner Khalid.\n",
      "hey dear you are invited for a dinner Amir.\n",
      "hey dear you are invited for a dinner Hammad.\n",
      "Sorry KhalidCant make it to dinner\n",
      "['muhammad Yasir', 'Amir', 'Hammad']\n",
      "hey dear you are invited for a dinner Muhammad Yasir.\n"
     ]
    }
   ],
   "source": [
    "#Assig 3.5\n",
    "Guests=['Khalid','Amir','Hammad',]\n",
    "print(Guests)\n",
    "print (\"hey dear you are invited for a dinner \" +Guests[0].title()+ '.')\n",
    "print (\"hey dear you are invited for a dinner \" +Guests[1].title()+ '.')\n",
    "print (\"hey dear you are invited for a dinner \" +Guests[2].title()+ '.')\n",
    "\n",
    "print (\"Sorry \"+ Guests[0].title()+ \"Cant make it to dinner\" )\n",
    "del Guests[0]\n",
    "Guests.insert(0,'muhammad Yasir')\n",
    "print (Guests)\n",
    "print (\"hey dear you are invited for a dinner \" + Guests[0].title()+ '.')\n"
   ]
  },
  {
   "cell_type": "code",
   "execution_count": 19,
   "metadata": {},
   "outputs": [
    {
     "name": "stdout",
     "output_type": "stream",
     "text": [
      "['Khalid', 'Amir', 'Hammad']\n",
      "hey dear you are invited for a dinner Khalid.\n",
      "hey dear you are invited for a dinner Amir.\n",
      "hey dear you are invited for a dinner Hammad.\n",
      "cant make a dinner\n",
      "['Khalid', 'Amir', 'Hammad']\n",
      "hey dear you are invited for a dinner Khalid.\n",
      "hey dear you are invited for a dinner Amir.\n",
      "hey dear you are invited for a dinner Hammad.\n",
      "Sorry KhalidCant make it to dinner\n",
      "['Muhammad Yasir', 'Amir', 'Hammad']\n",
      "hey dear you are invited for a dinner Muhammad Yasir.\n",
      "Found Bigger Table\n",
      "['Muhammad Yasir', 'Amir', 'Hammad']\n",
      "hey dear you are invited for a dinner Hammad.\n",
      "hey dear you are invited for a dinner Assad.\n",
      "['Muhammad Yasir', 'Amir', 'Hammad', 'Assad', 'Hassan Ali']\n"
     ]
    }
   ],
   "source": [
    "#Assig 3.6\n",
    "Guests=['Khalid','Amir','Hammad']\n",
    "print(Guests)\n",
    "print (\"hey dear you are invited for a dinner \" +Guests[0].title()+ '.')\n",
    "print (\"hey dear you are invited for a dinner \" +Guests[1].title()+ '.')\n",
    "print (\"hey dear you are invited for a dinner \" +Guests[2].title()+ '.')\n",
    "print(\"cant make a dinner\")\n",
    "Guests=['Khalid','Amir','Hammad']\n",
    "print(Guests)\n",
    "print (\"hey dear you are invited for a dinner \" +Guests[0].title()+ '.')\n",
    "print (\"hey dear you are invited for a dinner \" +Guests[1].title()+ '.')\n",
    "print (\"hey dear you are invited for a dinner \" +Guests[2].title()+ '.')\n",
    "\n",
    "print (\"Sorry \"+ Guests[0].title()+ \"Cant make it to dinner\" )\n",
    "del Guests[0]\n",
    "Guests.insert(0,'Muhammad Yasir')\n",
    "print (Guests)\n",
    "print (\"hey dear you are invited for a dinner \" + Guests[0].title()+ '.')\n",
    "print (\"Found Bigger Table\")\n",
    "print(Guests)\n",
    "Guests.insert(4,\"Assad\")\n",
    "print (\"hey dear you are invited for a dinner \" + Guests[2].title()+ '.')\n",
    "Guests.insert(5,\"Hassan Ali\")\n",
    "print (\"hey dear you are invited for a dinner \" + Guests[3].title()+ '.')\n",
    "print(Guests)"
   ]
  },
  {
   "cell_type": "code",
   "execution_count": 12,
   "metadata": {},
   "outputs": [
    {
     "name": "stdout",
     "output_type": "stream",
     "text": [
      "['Khalid', 'Amir', 'Hammad', 'aqib']\n",
      "hey dear you are invited for a dinner Khalid.\n",
      "hey dear you are invited for a dinner Amir.\n",
      "hey dear you are invited for a dinner Hammad.\n",
      "cant make a dinner\n",
      "['Ahmad', 'Waleed', 'Asif', 'aqib']\n",
      "hey dear you are invited for a dinner Ahmad.\n",
      "hey dear you are invited for a dinner Waleed.\n",
      "hey dear you are invited for a dinner Asif.\n",
      "Sorry AhmadCant make it to dinner\n",
      "['Rehman', 'Waleed', 'Asif', 'aqib']\n",
      "hey dear you are invited for a dinner Rehman.\n",
      "Found Bigger Table\n",
      "hey dear you are invited for a dinner Ibrahim.\n",
      "hey dear you are invited for a dinner Imran.\n",
      "['Rehman', 'Waleed', 'Asif', 'aqib', 'Ibrahim', 'Imran']\n",
      "sorry you cant invite them to dinner Rehman.\n",
      "sorry you cant invite them to dinner Waleed.\n",
      "sorry you cant invite them to dinner Asif.\n",
      "sorry you cant invite them to dinner Aqib.\n",
      "You are invited for dinner Ibrahim.\n",
      "You are invited for dinner Imran.\n"
     ]
    }
   ],
   "source": [
    "#Assig 3.7\n",
    "Guests=['Khalid','Amir','Hammad','aqib']\n",
    "print(Guests)\n",
    "print (\"hey dear you are invited for a dinner \" +Guests[0].title()+ '.')\n",
    "print (\"hey dear you are invited for a dinner \" +Guests[1].title()+ '.')\n",
    "print (\"hey dear you are invited for a dinner \" +Guests[2].title()+ '.')\n",
    "print(\"cant make a dinner\")\n",
    "Guests=['Ahmad','Waleed','Asif','aqib']\n",
    "print(Guests)\n",
    "print (\"hey dear you are invited for a dinner \" +Guests[0].title()+ '.')\n",
    "print (\"hey dear you are invited for a dinner \" +Guests[1].title()+ '.')\n",
    "print (\"hey dear you are invited for a dinner \" +Guests[2].title()+ '.')\n",
    "print (\"Sorry \"+ Guests[0].title()+ \"Cant make it to dinner\" )\n",
    "del Guests[0]\n",
    "Guests.insert(0,'Rehman')\n",
    "print (Guests)\n",
    "print (\"hey dear you are invited for a dinner \" + Guests[0].title()+ '.')\n",
    "print (\"Found Bigger Table\")\n",
    "Guests.insert(4,'Ibrahim')\n",
    "print (\"hey dear you are invited for a dinner \" + Guests[4].title()+ '.')\n",
    "Guests.insert(5,'Imran')\n",
    "print (\"hey dear you are invited for a dinner \" + Guests[5].title()+ '.')\n",
    "print(Guests)\n",
    "print (\"sorry you cant invite them to dinner \" + Guests[0].title()+ '.')\n",
    "print (\"sorry you cant invite them to dinner \" + Guests[1].title()+ '.')\n",
    "print (\"sorry you cant invite them to dinner \" + Guests[2].title()+ '.')\n",
    "print (\"sorry you cant invite them to dinner \" + Guests[3].title()+ '.')\n",
    "print (\"You are invited for dinner \" + Guests[4].title()+ '.')\n",
    "print (\"You are invited for dinner \" + Guests[5].title()+ '.')\n",
    "#Guests.pop(0)\n",
    "#Guests.pop(1)\n",
    "#Guests.pop(2)\n",
    "#Guests.pop(4)"
   ]
  },
  {
   "cell_type": "code",
   "execution_count": 13,
   "metadata": {},
   "outputs": [
    {
     "name": "stdout",
     "output_type": "stream",
     "text": [
      "['Lahore', 'Karachi', 'Liyah', 'sahiwal', 'Ali Pur']\n",
      "Sourted List\n",
      "['Ali Pur', 'Karachi', 'Lahore', 'Liyah', 'sahiwal']\n",
      "['Ali Pur', 'Karachi', 'Lahore', 'Liyah', 'sahiwal']\n",
      "['Lahore', 'Karachi', 'Liyah', 'sahiwal', 'Ali Pur']\n",
      "['sahiwal', 'Liyah', 'Lahore', 'Karachi', 'Ali Pur']\n",
      "['Lahore', 'Karachi', 'Liyah', 'sahiwal', 'Ali Pur']\n",
      "['sahiwal', 'Liyah', 'Lahore', 'Karachi', 'Ali Pur']\n",
      "['Lahore', 'Karachi', 'Liyah', 'sahiwal', 'Ali Pur']\n",
      "['Ali Pur', 'Karachi', 'Lahore', 'Liyah', 'sahiwal']\n"
     ]
    }
   ],
   "source": [
    "#Assig 3.8\n",
    "Places=['Lahore','Karachi','Liyah','sahiwal','Ali Pur']\n",
    "print(Places)\n",
    "print (\"Sourted List\")\n",
    "Places.sort()\n",
    "print(Places)\n",
    "Places=['Lahore','Karachi','Liyah','sahiwal','Ali Pur']\n",
    "print(sorted(Places))\n",
    "print(Places)\n",
    "print(sorted(Places, reverse=True))\n",
    "print(Places)\n",
    "print(sorted(Places, reverse=True))\n",
    "print(Places)\n",
    "Places.sort()\n",
    "print(Places)"
   ]
  },
  {
   "cell_type": "code",
   "execution_count": 15,
   "metadata": {},
   "outputs": [
    {
     "name": "stdout",
     "output_type": "stream",
     "text": [
      "['khalid', 'amir', 'Hammad']\n",
      "sorry you are not invited khalid.\n",
      "['amir', 'Hammad']\n",
      "sorry you are not invited Hammad.\n",
      "sorry you are  invited amir.\n",
      "sorry you are  invited amir.\n"
     ]
    },
    {
     "data": {
      "text/plain": [
       "1"
      ]
     },
     "execution_count": 15,
     "metadata": {},
     "output_type": "execute_result"
    }
   ],
   "source": [
    "#Assig 3.9\n",
    "Guests=['khalid','amir','Hammad',]\n",
    "print(Guests)\n",
    "print(\"sorry you are not invited \"+Guests[0]+'.')\n",
    "del Guests[0]\n",
    "print(Guests)\n",
    "print(\"sorry you are not invited \"+Guests[1]+'.')\n",
    "del Guests[1]\n",
    "print(\"sorry you are  invited \"+Guests[0]+'.')\n",
    "print(\"sorry you are  invited \"+Guests[0]+'.')\n",
    "len(Guests)"
   ]
  },
  {
   "cell_type": "code",
   "execution_count": 17,
   "metadata": {},
   "outputs": [
    {
     "name": "stdout",
     "output_type": "stream",
     "text": [
      "['Muzaffargarh', 'Ali pur', 'Multan', 'ICT']\n",
      "sorry you are  invited Ali pur.\n",
      "['Muzaffargarh', 'Ali pur', 'Multan', 'ICT']\n",
      "['Jhang', 'Ali pur', 'Multan', 'ICT', 'Karachi']\n",
      "['Jhang', 'Ali pur', 'Multan', 'ICT', 'Karachi', 'Ali Pur']\n",
      "['Ali pur', 'Multan', 'ICT', 'Karachi', 'Ali Pur']\n",
      "['Ali Pur', 'Ali pur', 'ICT', 'Karachi', 'Multan']\n",
      "['Multan', 'Karachi', 'ICT', 'Ali pur', 'Ali Pur']\n"
     ]
    },
    {
     "data": {
      "text/plain": [
       "5"
      ]
     },
     "execution_count": 17,
     "metadata": {},
     "output_type": "execute_result"
    }
   ],
   "source": [
    "#Assig 3.10\n",
    "cities=['Muzaffargarh','Ali pur','Multan','ICT']\n",
    "print(cities)\n",
    "print(\"sorry you are  invited \"+cities[1]+'.')\n",
    "print(cities)\n",
    "cities.insert(4,'Karachi')\n",
    "cities[0] =\"Jhang\"\n",
    "print(cities)\n",
    "cities.append('Ali Pur')\n",
    "print(cities)\n",
    "del cities[0]\n",
    "print(cities)\n",
    "cities.sort()\n",
    "print(cities)\n",
    "cities.reverse()\n",
    "print (cities)\n",
    "len(cities)"
   ]
  },
  {
   "cell_type": "code",
   "execution_count": null,
   "metadata": {},
   "outputs": [],
   "source": [
    "\n"
   ]
  }
 ],
 "metadata": {
  "interpreter": {
   "hash": "e884fd14947f370f271530bf34ce16b1a3e78eb0d7843a6248e530f13a8416e8"
  },
  "kernelspec": {
   "display_name": "Python 3.9.7 64-bit",
   "language": "python",
   "name": "python3"
  },
  "language_info": {
   "codemirror_mode": {
    "name": "ipython",
    "version": 3
   },
   "file_extension": ".py",
   "mimetype": "text/x-python",
   "name": "python",
   "nbconvert_exporter": "python",
   "pygments_lexer": "ipython3",
   "version": "3.10.4"
  },
  "orig_nbformat": 4
 },
 "nbformat": 4,
 "nbformat_minor": 2
}

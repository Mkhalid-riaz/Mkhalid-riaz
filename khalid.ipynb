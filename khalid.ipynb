{
 "cells": [
  {
   "cell_type": "code",
   "execution_count": 1,
   "metadata": {},
   "outputs": [
    {
     "name": "stdout",
     "output_type": "stream",
     "text": [
      "I love Pakistan\n",
      "i am a govt teacher\n",
      "National college of commerce and Buisness Multan\n"
     ]
    }
   ],
   "source": [
    "#Assig 1,2\n",
    "print (\"I love Pakistan\")\n",
    "message = (\"i am a govt teacher\")\n",
    "print (message)\n",
    "message =(\"National college of commerce and Buisness Multan\")\n",
    "print (message)"
   ]
  },
  {
   "cell_type": "code",
   "execution_count": 2,
   "metadata": {},
   "outputs": [
    {
     "name": "stdout",
     "output_type": "stream",
     "text": [
      "Muhammad Khalid\n",
      "Hello Khalid Whould You Want To Learn Python Language\n"
     ]
    }
   ],
   "source": [
    "#Assig 2.3\n",
    "message = \"Muhammad Khalid\"\n",
    "print(message)\n",
    "message= \"Hello Khalid whould you want to learn python language\"\n",
    "message = message.title()\n",
    "print(message)"
   ]
  },
  {
   "cell_type": "code",
   "execution_count": 3,
   "metadata": {},
   "outputs": [
    {
     "name": "stdout",
     "output_type": "stream",
     "text": [
      "Khalid\n",
      "khalid\n",
      "KHALID\n"
     ]
    }
   ],
   "source": [
    "#Assig 2.4\n",
    "name= \"khalid\"\n",
    "print (name.title())\n",
    "print (name.lower())\n",
    "print(name.upper())"
   ]
  },
  {
   "cell_type": "code",
   "execution_count": 5,
   "metadata": {},
   "outputs": [
    {
     "name": "stdout",
     "output_type": "stream",
     "text": [
      "Hazrat Muhammad  said \"Be kind to the Children and respect to the elders\"\n"
     ]
    }
   ],
   "source": [
    "#Assig 2.5\n",
    "quote =\"Be kind to the Children and respect to the elders\"\n",
    "Name=(f\"Hazrat Muhammad  said \\\"{quote}\\\"\")\n",
    "print (Name)"
   ]
  },
  {
   "cell_type": "code",
   "execution_count": 4,
   "metadata": {},
   "outputs": [
    {
     "name": "stdout",
     "output_type": "stream",
     "text": [
      "Be kind to the Children and respect to the elders Hazrat Muhammad Said,\"\n"
     ]
    }
   ],
   "source": [
    "#Assig 2.6\n",
    "famous_Quotes =\"Hazrat Muhammad Said,\"\n",
    "message=(f\"Be kind to the Children and respect to the elders {famous_Quotes}\\\"\")\n",
    "print(message)"
   ]
  },
  {
   "cell_type": "code",
   "execution_count": 6,
   "metadata": {},
   "outputs": [
    {
     "name": "stdout",
     "output_type": "stream",
     "text": [
      "   PeshwarZalmi   \n",
      "PeshwarZalmi   \n",
      "   PeshwarZalmi\n",
      "PeshwarZalmi\n"
     ]
    }
   ],
   "source": [
    "#Assig 2.7\n",
    "name = \"   Peshwar\" \"Zalmi   \"\n",
    "print(name)\n",
    "print(name.lstrip())\n",
    "print(name.rstrip())\n",
    "print(name.strip())"
   ]
  },
  {
   "cell_type": "code",
   "execution_count": 7,
   "metadata": {},
   "outputs": [
    {
     "name": "stdout",
     "output_type": "stream",
     "text": [
      "8\n",
      "8\n",
      "8\n",
      "8\n",
      "125\n"
     ]
    }
   ],
   "source": [
    "#Assig 2.8\n",
    "a=5\n",
    "b=3\n",
    "print(a+b)\n",
    "a=10\n",
    "b=2\n",
    "print(a-b)\n",
    "a=2\n",
    "b=4\n",
    "print(a*b)\n",
    "a=16\n",
    "b=2\n",
    "print(a//b)\n",
    "a=5\n",
    "b=3\n",
    "print(a**b)"
   ]
  },
  {
   "cell_type": "code",
   "execution_count": 8,
   "metadata": {},
   "outputs": [
    {
     "name": "stdout",
     "output_type": "stream",
     "text": [
      "My Favourite number is 5.\n"
     ]
    }
   ],
   "source": [
    "#Assig 2.9\n",
    "Favourite_Number =5\n",
    "print (\"My Favourite number is \" + str(Favourite_Number) + \".\" )"
   ]
  },
  {
   "cell_type": "code",
   "execution_count": 9,
   "metadata": {},
   "outputs": [
    {
     "name": "stdout",
     "output_type": "stream",
     "text": [
      "2022-05-01 08:06:02.698769\n",
      "Khalid In this program first print my name import the current date and time \n"
     ]
    }
   ],
   "source": [
    "#Assig 2.10\n",
    "import datetime\n",
    "d=datetime.datetime.now()\n",
    "print (d)\n",
    "name=\"Khalid\"\n",
    "print ((name) + \" In this program first print my name import the current date and time \")"
   ]
  },
  {
   "cell_type": "code",
   "execution_count": 12,
   "metadata": {},
   "outputs": [
    {
     "name": "stdout",
     "output_type": "stream",
     "text": [
      "The Zen of Python, by Tim Peters\n",
      "\n",
      "Beautiful is better than ugly.\n",
      "Explicit is better than implicit.\n",
      "Simple is better than complex.\n",
      "Complex is better than complicated.\n",
      "Flat is better than nested.\n",
      "Sparse is better than dense.\n",
      "Readability counts.\n",
      "Special cases aren't special enough to break the rules.\n",
      "Although practicality beats purity.\n",
      "Errors should never pass silently.\n",
      "Unless explicitly silenced.\n",
      "In the face of ambiguity, refuse the temptation to guess.\n",
      "There should be one-- and preferably only one --obvious way to do it.\n",
      "Although that way may not be obvious at first unless you're Dutch.\n",
      "Now is better than never.\n",
      "Although never is often better than *right* now.\n",
      "If the implementation is hard to explain, it's a bad idea.\n",
      "If the implementation is easy to explain, it may be a good idea.\n",
      "Namespaces are one honking great idea -- let's do more of those!\n"
     ]
    }
   ],
   "source": [
    "#Assig 2.11\n",
    "import this"
   ]
  }
 ],
 "metadata": {
  "interpreter": {
   "hash": "e884fd14947f370f271530bf34ce16b1a3e78eb0d7843a6248e530f13a8416e8"
  },
  "kernelspec": {
   "display_name": "Python 3.9.7 64-bit",
   "language": "python",
   "name": "python3"
  },
  "language_info": {
   "codemirror_mode": {
    "name": "ipython",
    "version": 3
   },
   "file_extension": ".py",
   "mimetype": "text/x-python",
   "name": "python",
   "nbconvert_exporter": "python",
   "pygments_lexer": "ipython3",
   "version": "3.10.4"
  },
  "orig_nbformat": 4
 },
 "nbformat": 4,
 "nbformat_minor": 2
}
